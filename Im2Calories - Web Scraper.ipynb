{
 "cells": [
  {
   "cell_type": "code",
   "execution_count": 2,
   "id": "98fe0130",
   "metadata": {},
   "outputs": [],
   "source": [
    "import requests\n",
    "import urllib\n",
    "from bs4 import BeautifulSoup"
   ]
  },
  {
   "cell_type": "code",
   "execution_count": 3,
   "id": "1d639ebc",
   "metadata": {},
   "outputs": [],
   "source": [
    "# URL = \"https://www.allrecipes.com/recipe/142377/delicious-feta-crusted-salmon/\"\n",
    "URL = \"https://www.allrecipes.com/recipe/228141/marinated-fried-fish/\"\n",
    "page = requests.get(URL)\n",
    "\n",
    "soup = BeautifulSoup(page.content, \"html.parser\")"
   ]
  },
  {
   "cell_type": "markdown",
   "id": "cb44f817",
   "metadata": {},
   "source": [
    "## Get key containers"
   ]
  },
  {
   "cell_type": "code",
   "execution_count": 4,
   "id": "273b6cc4",
   "metadata": {},
   "outputs": [],
   "source": [
    "img = soup.find(\"div\", {\"class\":\"image-container\"})\n",
    "cal = soup.find(\"div\", {\"class\":\"recipe-nutrition-section\"})"
   ]
  },
  {
   "cell_type": "code",
   "execution_count": 5,
   "id": "ebc90120",
   "metadata": {
    "scrolled": true
   },
   "outputs": [
    {
     "name": "stdout",
     "output_type": "stream",
     "text": [
      "<div class=\"partial recipe-nutrition-section\">\n",
      " <div class=\"section-label\">\n",
      "  Per Serving:\n",
      " </div>\n",
      " <div class=\"section-body\">\n",
      "  1345 calories; protein 25.3g; carbohydrates 37.4g; fat 123.5g; cholesterol 152.9mg; sodium 202.6mg.\n",
      "  <a aria-label=\"Read Full Nutrition\" class=\"recipe-nutrition-section-link link-view\" data-tracking-do-not-track=\"1\" href=\"#\">\n",
      "   Full Nutrition\n",
      "  </a>\n",
      " </div>\n",
      "</div>\n",
      "\n"
     ]
    }
   ],
   "source": [
    "print(cal.prettify())"
   ]
  },
  {
   "cell_type": "code",
   "execution_count": 6,
   "id": "8d321b95",
   "metadata": {
    "scrolled": true
   },
   "outputs": [
    {
     "name": "stdout",
     "output_type": "stream",
     "text": [
      "<div class=\"image-container\">\n",
      " <div class=\"component lazy-image lazy-image-udf lead-media ugc-photos-link aspect_1x1\" data-alt=\"Marinated Fried Fish \" data-crop-percentage=\"100\" data-high-density=\"false\" data-main-recipe=\"true\" data-original-height=\"2449\" data-original-width=\"2448\" data-shop-image=\"false\" data-special-crop=\"\" data-src=\"https://imagesvc.meredithcorp.io/v3/mm/image?url=https%3A%2F%2Fimages.media-allrecipes.com%2Fuserphotos%2F1107016.jpg\" data-title=\"\" data-tracking-zone=\"image\">\n",
      "  <noscript>\n",
      "   <img alt=\"Marinated Fried Fish \" src=\"https://imagesvc.meredithcorp.io/v3/mm/image?url=https%3A%2F%2Fimages.media-allrecipes.com%2Fuserphotos%2F1107016.jpg\"/>\n",
      "  </noscript>\n",
      "  <div class=\"inner-container js-inner-container image-overlay\">\n",
      "   <span class=\"placeholderText visually-hidden\">\n",
      "    Marinated Fried Fish\n",
      "   </span>\n",
      "   <span class=\"icon icon-pinterest-circle-solid social-icon pinterest-transparent\" data-social-service=\"pinterest\">\n",
      "    <a aria-label=\"Pin this Marinated Fried Fish  image\" class=\"display-block allowPopup popup\" href=\"https://www.pinterest.com/pin/create/link/?url=https%3A%2F%2Fwww.allrecipes.com%2Frecipe%2F228141%2Fmarinated-fried-fish%2F%3Futm_source%3Dpinterest.com%26utm_medium%3Dsocial%26utm_campaign%3Dsocial-share-recipe%26utm_content%3D20211115%26utm_term%3Dundefined&amp;media=https%3A%2F%2Fimagesvc.meredithcorp.io%2Fv3%2Fmm%2Fimage%3Furl%3Dhttps%253A%252F%252Fimages.media-allrecipes.com%252Fuserphotos%252F1107016.jpg&amp;description=Marinated%20Fried%20Fish\" title=\"pinterest share\">\n",
      "     <svg aria-hidden=\"true\" height=\"32\" viewbox=\"0 0 32 32\" width=\"32\" xmlns=\"http://www.w3.org/2000/svg\">\n",
      "      <g fill=\"none\" fill-rule=\"evenodd\">\n",
      "       <path d=\"M32 16c0 8.837-7.163 16-16 16S0 24.837 0 16 7.163 0 16 0s16 7.163 16 16\" fill=\"#E54A59\">\n",
      "       </path>\n",
      "       <path d=\"M15.164 18.532c-.011.039-.022.072-.03.106-.503 1.97-.56 2.408-1.076 3.322-.246.436-.524.847-.832 1.242-.034.044-.067.102-.136.088-.076-.016-.082-.084-.09-.145-.083-.599-.128-1.2-.108-1.803.026-.788.123-1.058 1.139-5.327a.295.295 0 0 0-.024-.178c-.244-.656-.291-1.32-.079-1.995.459-1.456 2.11-1.567 2.398-.366.178.743-.292 1.716-.653 3.152-.299 1.186 1.097 2.03 2.29 1.163 1.1-.798 1.527-2.71 1.446-4.067-.16-2.703-3.125-3.287-5.005-2.417-2.157.997-2.647 3.67-1.673 4.891.123.156.219.25.177.408-.062.245-.117.49-.185.734-.05.182-.202.247-.385.173a2.212 2.212 0 0 1-.9-.675c-.827-1.024-1.064-3.049.03-4.763 1.21-1.9 3.463-2.668 5.52-2.435 2.457.28 4.01 1.958 4.3 3.863.133.867.038 3.006-1.18 4.518-1.402 1.737-3.672 1.852-4.72.786-.08-.082-.145-.178-.224-.275\" fill=\"#FFF\">\n",
      "       </path>\n",
      "      </g>\n",
      "     </svg>\n",
      "    </a>\n",
      "   </span>\n",
      "   <button aria-label=\"Make image larger \" class=\"icon icon-image-zoom\" data-alt=\"Marinated Fried Fish \" data-caption=\"\" data-image=\"https://imagesvc.meredithcorp.io/v3/mm/image?url=https%3A%2F%2Fimages.media-allrecipes.com%2Fuserphotos%2F1107016.jpg\" data-title=\"\" data-tracking-do-not-track=\"1\">\n",
      "    <svg height=\"24\" viewbox=\"0 0 24 24\" width=\"24\" xmlns=\"http://www.w3.org/2000/svg\">\n",
      "     <path d=\"M2.667 21.333h8v2.667h-10.667v-10.667h2.667v8zM21.333 0h2.667v10.667h-2.667v-8h-8v-2.667h8z\">\n",
      "     </path>\n",
      "    </svg>\n",
      "   </button>\n",
      "  </div>\n",
      "  <div class=\"lazy-image__loadingPlaceholder\">\n",
      "   <img alt=\"\" class=\"loadingPlaceholder\" height=\"2449\" src=\"data:image/svg+xml,%3Csvg%20xmlns='http://www.w3.org/2000/svg'%20viewBox='0%200%20100%20100'%3E%3C/svg%3E\" width=\"2448\"/>\n",
      "  </div>\n",
      " </div>\n",
      "</div>\n",
      "\n"
     ]
    }
   ],
   "source": [
    "print(img.prettify())"
   ]
  },
  {
   "cell_type": "markdown",
   "id": "a4ff35ee",
   "metadata": {},
   "source": [
    "## Download Image"
   ]
  },
  {
   "cell_type": "code",
   "execution_count": 7,
   "id": "73d8d02e",
   "metadata": {},
   "outputs": [],
   "source": [
    "img_elements = img.find_all(\"div\", class_=\"lazy-image\")"
   ]
  },
  {
   "cell_type": "code",
   "execution_count": 8,
   "id": "9d3826f4",
   "metadata": {},
   "outputs": [],
   "source": [
    "img_url = img_elements[0]['data-src']"
   ]
  },
  {
   "cell_type": "code",
   "execution_count": 9,
   "id": "4dcb12a8",
   "metadata": {},
   "outputs": [
    {
     "data": {
      "text/plain": [
       "('salmon.jpg', <http.client.HTTPMessage at 0x1efc29c5580>)"
      ]
     },
     "execution_count": 9,
     "metadata": {},
     "output_type": "execute_result"
    }
   ],
   "source": [
    "urllib.request.urlretrieve(img_url, \"salmon.jpg\")"
   ]
  },
  {
   "cell_type": "markdown",
   "id": "94e68a41",
   "metadata": {},
   "source": [
    "## Get Calorie Count"
   ]
  },
  {
   "cell_type": "code",
   "execution_count": 10,
   "id": "674fb64b",
   "metadata": {},
   "outputs": [],
   "source": [
    "cal_text = cal.getText()\n",
    "cal_text_list = cal_text.split(' ')"
   ]
  },
  {
   "cell_type": "code",
   "execution_count": 11,
   "id": "46c3352f",
   "metadata": {},
   "outputs": [],
   "source": [
    "num_cal = int(cal_text_list[4])"
   ]
  },
  {
   "cell_type": "code",
   "execution_count": 12,
   "id": "82cdfa91",
   "metadata": {
    "scrolled": true
   },
   "outputs": [
    {
     "data": {
      "text/plain": [
       "1345"
      ]
     },
     "execution_count": 12,
     "metadata": {},
     "output_type": "execute_result"
    }
   ],
   "source": [
    "num_cal"
   ]
  },
  {
   "cell_type": "markdown",
   "id": "98f83c34",
   "metadata": {},
   "source": [
    "## Function of above work"
   ]
  },
  {
   "cell_type": "code",
   "execution_count": 1,
   "id": "1523a01e",
   "metadata": {},
   "outputs": [],
   "source": [
    "def get_data(search_term, url, recipe_num):\n",
    "    page = requests.get(url)\n",
    "\n",
    "    soup = BeautifulSoup(page.content, \"html.parser\")\n",
    "    \n",
    "    # Get Key Containers\n",
    "    img = soup.find(\"div\", {\"class\":\"image-container\"})\n",
    "    cal = soup.find(\"div\", {\"class\":\"recipe-nutrition-section\"})\n",
    "    \n",
    "    # Try Download Image\n",
    "    try:\n",
    "        img_elements = img.find_all(\"div\", class_=\"lazy-image\")\n",
    "        if len(img_elements) > 0:\n",
    "          \n",
    "            img_url = img_elements[0]['data-src']\n",
    "            urllib.request.urlretrieve(img_url, f\"data/{search_term}/{search_term}_{recipe_num}.jpg\")\n",
    "\n",
    "        # Get Calorie Count\n",
    "        cal_text = cal.getText()\n",
    "        cal_text_list = cal_text.split(' ')\n",
    "        num_cal = int(cal_text_list[4])\n",
    "        with open(f'data/{search_term}_cal.csv', 'a+') as f:\n",
    "            f.write(str(num_cal))\n",
    "            f.write('\\n')\n",
    "    \n",
    "    except:\n",
    "        pass"
   ]
  },
  {
   "cell_type": "markdown",
   "id": "28d5918d",
   "metadata": {},
   "source": [
    "## Make it automated"
   ]
  },
  {
   "cell_type": "code",
   "execution_count": 14,
   "id": "b515ba71",
   "metadata": {},
   "outputs": [],
   "source": [
    "from selenium import webdriver\n",
    "from selenium.webdriver.common.keys import Keys"
   ]
  },
  {
   "cell_type": "code",
   "execution_count": 15,
   "id": "a4482568",
   "metadata": {},
   "outputs": [],
   "source": [
    "import time"
   ]
  },
  {
   "cell_type": "markdown",
   "id": "30ba52d6",
   "metadata": {},
   "source": [
    "### Automate \"fish\" web scrape on allrecipes.com"
   ]
  },
  {
   "cell_type": "code",
   "execution_count": 66,
   "id": "288c656a",
   "metadata": {},
   "outputs": [],
   "source": [
    "def web_scrape(term):\n",
    "    driver = webdriver.Firefox(executable_path=r'../geckodriver.exe')\n",
    "    driver.get(f\"https://www.allrecipes.com/search/results/?search={term}\")\n",
    "    assert term in driver.title\n",
    "\n",
    "    driver.maximize_window() # For maximizing window\n",
    "\n",
    "    # Reference: https://stackoverflow.com/questions/20986631/how-can-i-scroll-a-web-page-using-selenium-webdriver-in-python\n",
    "    SCROLL_PAUSE_TIME = .5\n",
    "\n",
    "    # Get scroll height\n",
    "    last_height = driver.execute_script(\"return document.body.scrollHeight\")\n",
    "\n",
    "    while True:\n",
    "        # Scroll down to bottom\n",
    "        driver.execute_script(\"window.scrollTo(0, document.body.scrollHeight);\")\n",
    "\n",
    "        # Wait to load page\n",
    "        time.sleep(SCROLL_PAUSE_TIME)\n",
    "\n",
    "        # Calculate new scroll height and compare with last scroll height\n",
    "        new_height = driver.execute_script(\"return document.body.scrollHeight\")\n",
    "        if new_height == last_height:\n",
    "            break\n",
    "        last_height = new_height\n",
    "\n",
    "    num = 0\n",
    "\n",
    "    for a in driver.find_elements_by_partial_link_text(term):\n",
    "        if a.get_attribute(\"href\") == \"javascript:void(0);\":\n",
    "            pass\n",
    "        else:\n",
    "            get_data(term, a.get_attribute(\"href\"), num)\n",
    "            num = num+1\n",
    "\n",
    "    driver.close()"
   ]
  },
  {
   "cell_type": "code",
   "execution_count": 72,
   "id": "4eca20e6",
   "metadata": {},
   "outputs": [
    {
     "name": "stderr",
     "output_type": "stream",
     "text": [
      "C:\\Users\\miahn\\AppData\\Local\\Temp/ipykernel_5076/2208909105.py:2: DeprecationWarning: executable_path has been deprecated, please pass in a Service object\n",
      "  driver = webdriver.Firefox(executable_path=r'../geckodriver.exe')\n",
      "C:\\Users\\miahn\\AppData\\Local\\Temp/ipykernel_5076/2208909105.py:29: DeprecationWarning: find_elements_by_* commands are deprecated. Please use find_elements() instead\n",
      "  for a in driver.find_elements_by_partial_link_text(term):\n"
     ]
    }
   ],
   "source": [
    "web_scrape(\"Vegetable\")"
   ]
  }
 ],
 "metadata": {
  "kernelspec": {
   "display_name": "Python 3 (ipykernel)",
   "language": "python",
   "name": "python3"
  },
  "language_info": {
   "codemirror_mode": {
    "name": "ipython",
    "version": 3
   },
   "file_extension": ".py",
   "mimetype": "text/x-python",
   "name": "python",
   "nbconvert_exporter": "python",
   "pygments_lexer": "ipython3",
   "version": "3.9.5"
  }
 },
 "nbformat": 4,
 "nbformat_minor": 5
}
